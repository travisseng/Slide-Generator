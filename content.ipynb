{
 "cells": [
  {
   "cell_type": "code",
   "execution_count": 3,
   "metadata": {},
   "outputs": [],
   "source": [
    "import json\n",
    "\n",
    "def parse_content(cnt):\n",
    "    ## detect type\n",
    "    lines = [item.strip() for item in cnt.split('\\n') if len(item.strip()) > 0]\n",
    "    contents = []\n",
    "    for line in lines:\n",
    "        line = line.strip(\"-\")\n",
    "        if len(line) == 0:\n",
    "            continue\n",
    "        elif line[:7] == \"* Title\":\n",
    "            text_index = cnt.find(\"Text:\")\n",
    "            if text_index != -1:\n",
    "                text = cnt[text_index + len(\"Text:\"):].strip()\n",
    "                text = text.strip().strip(\"* \")\n",
    "                contents.append({\"cls\":\"text\", \"cnt\": text})\n",
    "        elif line[0] == \"*\":\n",
    "            contents.append({\"cls\":\"bp\", \"lvl\":0, \"cnt\": line.strip().strip(\"* \")})\n",
    "        elif line[1] == \"+\":\n",
    "            contents.append({\"cls\":\"bp\", \"lvl\":1, \"cnt\": line.strip().strip(\"* \")})\n",
    "        elif line[:5] == \"I hope\":\n",
    "            continue\n",
    "        elif len(line) > 0:\n",
    "            contents.append({\"cls\":\"text\", \"cnt\": line.strip()})\n",
    "    return contents\n",
    "\n",
    "def group_bp_tgt(contents):\n",
    "    new_contents = []\n",
    "    bps = {\"cls\": \"bp\", \"cnt\":[]}\n",
    "    current_lvl = 0\n",
    "    for i in range(len(contents)):\n",
    "        if contents[i][\"cls\"] == \"bp\" and i < len(contents) - 1:\n",
    "            bps[\"cnt\"].append(contents[i][\"cnt\"])\n",
    "            bps[\"lvl\"] = contents[i][\"lvl\"]\n",
    "\n",
    "        else:\n",
    "            if contents[i][\"cls\"] == \"bp\":\n",
    "                bps[\"cnt\"].append(contents[i][\"cnt\"])\n",
    "                bps[\"lvl\"] = contents[i][\"lvl\"]\n",
    "            if len(bps[\"cnt\"]) > 0:\n",
    "                new_contents.append(bps)\n",
    "                bps = {\"cls\": \"bp\", \"cnt\":[]}\n",
    "            if contents[i][\"cls\"] != \"bp\":\n",
    "                new_contents.append(contents[i])\n",
    "    return new_contents"
   ]
  },
  {
   "cell_type": "code",
   "execution_count": 4,
   "metadata": {},
   "outputs": [],
   "source": [
    "with open(\"/home/tseng/projects/slide_generator/output/500px/sum_slide.json\", 'r') as openfile:\n",
    "    json_obj = json.load(openfile)"
   ]
  },
  {
   "cell_type": "code",
   "execution_count": 11,
   "metadata": {},
   "outputs": [
    {
     "name": "stdout",
     "output_type": "stream",
     "text": [
      "[{'cls': 'bp', 'lvl': 0, 'cnt': 'Brief overview of 500px and its purpose'}, {'cls': 'bp', 'lvl': 0, 'cnt': 'Importance of understanding the history, technology, and controversies surrounding 500px'}]\n",
      "[{'cls': 'bp', 'lvl': 0, 'cnt': 'Founding of 500pin x 2009 by Odesk.com founder Nash Patterson'}, {'cls': 'bp', 'lvl': 0, 'cnt': 'Initial focus on showcasing high-quality photography from emerging photographers'}, {'cls': 'bp', 'lvl': 0, 'cnt': 'Expansion to include features such as online portfolios, networking tools, and community forums'}]\n",
      "[{'caption': [{'tag': None, 'content': '500px headquarters in Toronto'}], 'image': 'https://upload.wikimedia.org/wikipedia/commons/thumb/b/b9/FiveHundredPixels.jpg/220px-FiveHundredPixels.jpg'}]\n",
      "[{'cls': 'bp', 'lvl': 0, 'cnt': \"Overview of 500px's core features, including uploading and sharing photos, creating portfolios, and following other photographers\"}, {'cls': 'bp', 'lvl': 0, 'cnt': \"Discussion of 500px's algorithms for discovering and featuring top photography content\"}, {'cls': 'bp', 'lvl': 0, 'cnt': \"Explanation of how 500px's technology has evolved over time to meet the needs of its growing user base\"}]\n",
      "[]\n",
      "[{'cls': 'bp', 'lvl': 0, 'cnt': \"Overview of some of the controversies surrounding 500px, such as issues with copyright and ownership of photos, concerns about the platform's monetization strategies, and debates about the role of algorithms in determining which photos are featured\"}, {'cls': 'bp', 'lvl': 0, 'cnt': 'Discussion of how 500px has responded to these controversies and what changes have been made as a result'}]\n",
      "[]\n",
      "[{'cls': 'bp', 'lvl': 0, 'cnt': \"Discussion of 500px's impact on the photography industry and its role in shaping the way we consume and engage with photos online\"}, {'cls': 'bp', 'lvl': 0, 'cnt': \"Examination of how 500px's technology and features have influenced other social media platforms and online communities\"}, {'cls': 'bp', 'lvl': 0, 'cnt': 'Predictions for the future of 500px and its continued relevance in the ever-evolving world of online photography'}]\n",
      "[{'cls': 'bp', 'lvl': 0, 'cnt': \"Summary of key points about 500px's history, technology, and controversies\"}, {'cls': 'bp', 'lvl': 0, 'cnt': 'Call to action for further exploration of 500px and its place in the photography industry.'}]\n"
     ]
    }
   ],
   "source": [
    "for i, h in enumerate(json_obj[1:]):\n",
    "    content_json = h[\"content\"]\n",
    "    title = h[\"title\"]\n",
    "    parsed_content_dict = parse_content(content_json)\n",
    "    print(parsed_content_dict)\n",
    "    if \"images\" in h.keys():\n",
    "        images = h[\"images\"]\n",
    "        nb_images = len(images)\n",
    "        print(images)"
   ]
  }
 ],
 "metadata": {
  "kernelspec": {
   "display_name": "base",
   "language": "python",
   "name": "python3"
  },
  "language_info": {
   "codemirror_mode": {
    "name": "ipython",
    "version": 3
   },
   "file_extension": ".py",
   "mimetype": "text/x-python",
   "name": "python",
   "nbconvert_exporter": "python",
   "pygments_lexer": "ipython3",
   "version": "3.10.9"
  },
  "orig_nbformat": 4
 },
 "nbformat": 4,
 "nbformat_minor": 2
}
