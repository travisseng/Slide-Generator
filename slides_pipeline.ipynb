{
 "cells": [
  {
   "cell_type": "code",
   "execution_count": 4,
   "metadata": {},
   "outputs": [],
   "source": [
    "import subprocess\n",
    "from threading import Thread\n",
    "import fitz\n",
    "import glob\n",
    "from PIL import Image, ImageDraw"
   ]
  },
  {
   "cell_type": "code",
   "execution_count": 5,
   "metadata": {},
   "outputs": [
    {
     "name": "stdout",
     "output_type": "stream",
     "text": [
      "Marp commands created\n",
      "python /home/tseng/projects/utils/distributed_computing/start_computing_server.py -t ./commands_marp_auto.txt -p 2050\n"
     ]
    },
    {
     "name": "stderr",
     "output_type": "stream",
     "text": [
      "\u001b[1m[\u001b[32m\u001b[33m|\u001b[0m              \u001b[1m]\u001b[0m   0.00 %"
     ]
    },
    {
     "name": "stderr",
     "output_type": "stream",
     "text": [
      "\u001b[1m[\u001b[32m||||||||||||||\u001b[33m|\u001b[0m\u001b[1m]\u001b[0m  99.95 %"
     ]
    },
    {
     "name": "stdout",
     "output_type": "stream",
     "text": [
      "\n",
      "Closing server\n",
      "Server closed\n",
      "Finish generated marp pdf\n"
     ]
    },
    {
     "name": "stderr",
     "output_type": "stream",
     "text": [
      "\u001b[1m[\u001b[32m|||||||||||||||\u001b[33m\u001b[0m\u001b[1m]\u001b[0m 100.00 %"
     ]
    }
   ],
   "source": [
    "## get marp commands\n",
    "script_path = \"./utils/marp_pdf.sh\"\n",
    "rc = subprocess.call(script_path)\n",
    "print(\"Marp commands created\")\n",
    "\n",
    "def run_script(python_script):\n",
    "    print(python_script)\n",
    "    rc = subprocess.call(python_script, shell=True)\n",
    "    return\n",
    "\n",
    "def run_bash(bash_script):\n",
    "    rc = subprocess.call(bash_script)\n",
    "    return\n",
    "\n",
    "rc = subprocess.run(\"pkill -f distributed_computing\", shell=True)\n",
    "a = Thread(target=run_script, args=[\"python /home/tseng/projects/utils/distributed_computing/start_computing_server.py -t ./commands_marp_auto.txt -p 2050\"])\n",
    "# subprocess.Popen(\"python /home/tseng/projects/utils/distributed_computing/start_computing_server.py -t ./commands_marp_auto.txt -p 2050\", shell=True)\n",
    "b = Thread(target=run_bash, args=[\"./utils/distributed_computing.sh\"])\n",
    "\n",
    "a.start()\n",
    "b.start()\n",
    "a.join()\n",
    "b.join()\n",
    "print(\"Finish generated marp pdf\")"
   ]
  },
  {
   "cell_type": "code",
   "execution_count": 6,
   "metadata": {},
   "outputs": [
    {
     "name": "stderr",
     "output_type": "stream",
     "text": [
      "  1%|          | 8/953 [00:00<00:39, 23.66it/s]"
     ]
    },
    {
     "name": "stderr",
     "output_type": "stream",
     "text": [
      "100%|██████████| 953/953 [01:07<00:00, 14.09it/s]\n"
     ]
    }
   ],
   "source": [
    "## parse pdf\n",
    "import tqdm\n",
    "import os\n",
    "pdf_files = sorted(glob.glob(\"output/*/*.pdf\"))\n",
    "for pdf_file in tqdm.tqdm(pdf_files):\n",
    "    pdf_nb = pdf_file.split(\"/\")[-2]\n",
    "    os.makedirs(\"output/%s/images/\" % (pdf_nb), exist_ok=True)\n",
    "    pdf = fitz.open(pdf_file)\n",
    "    for page in pdf:\n",
    "        ## save img\n",
    "        pix = page.get_pixmap()\n",
    "        img_path = \"output/%s/images/%s.%03d.jpg\" % (pdf_nb, pdf_nb, page.number)\n",
    "        # print(img_path)\n",
    "        # pix.save(img_path)\n",
    "\n",
    "        ## get words\n",
    "        # words = page.get_text(\"words\")\n",
    "        ## get images\n",
    "        # img_list = page.get_images(full=True)\n",
    "        # get drawings \n",
    "        # drawings = page.get_drawings()\n",
    "        with Image.frombytes(\"RGB\", [pix.width, pix.height], pix.samples) as im:\n",
    "            # draw = ImageDraw.Draw(im)\n",
    "            # for word in words:\n",
    "            #     draw.rectangle((word[0], word[1], word[2], word[3]), outline=(255,0,0), width=1)\n",
    "            # for img_el in img_list:\n",
    "            #     rect = page.get_image_bbox(img_el)\n",
    "            #     draw.rectangle((rect[0],rect[1], rect[2], rect[3]), outline=(0,0,255), width=1)\n",
    "            # for item in drawings:\n",
    "            #     rect = item[\"rect\"]\n",
    "            #     area = (rect[2]-rect[0])*(rect[3]-rect[1])\n",
    "            #     # print(area)\n",
    "            #     if area < 518400*0.9:\n",
    "            #         draw.rectangle((rect[0],rect[1], rect[2], rect[3]), outline=(0,255,0), width=1)\n",
    "            im.save(img_path, quality=90)\n",
    "        "
   ]
  },
  {
   "cell_type": "code",
   "execution_count": 4,
   "metadata": {},
   "outputs": [
    {
     "name": "stderr",
     "output_type": "stream",
     "text": [
      "100%|██████████| 150/150 [03:40<00:00,  1.47s/it]\n"
     ]
    }
   ],
   "source": [
    "## parse pdf\n",
    "import tqdm\n",
    "pdf_files = sorted(glob.glob(\"new_output/*/*.pdf\"))\n",
    "for pdf_file in tqdm.tqdm(pdf_files):\n",
    "    pdf_nb = pdf_file.split(\"/\")[-2]\n",
    "    pdf = fitz.open(pdf_file)\n",
    "    for page in pdf:\n",
    "        ## save img\n",
    "        pix = page.get_pixmap()\n",
    "        img_path = \"new_output/%s/%s.%03d.jpg\" % (pdf_nb, pdf_nb, page.number)\n",
    "        # print(img_path)\n",
    "        # pix.save(img_path)\n",
    "\n",
    "        ## get words\n",
    "        words = page.get_text(\"words\")\n",
    "        ## get images\n",
    "        img_list = page.get_images(full=True)\n",
    "        ## get drawings \n",
    "        drawings = page.get_drawings()\n",
    "        with Image.frombytes(\"RGB\", [pix.width, pix.height], pix.samples) as im:\n",
    "            # draw = ImageDraw.Draw(im)\n",
    "            # for word in words:\n",
    "            #     draw.rectangle((word[0], word[1], word[2], word[3]), outline=(255,0,0), width=1)\n",
    "            # for img_el in img_list:\n",
    "            #     rect = page.get_image_bbox(img_el)\n",
    "            #     draw.rectangle((rect[0],rect[1], rect[2], rect[3]), outline=(0,0,255), width=1)\n",
    "            # for item in drawings:\n",
    "            #     rect = item[\"rect\"]\n",
    "            #     area = (rect[2]-rect[0])*(rect[3]-rect[1])\n",
    "            #     # print(area)\n",
    "            #     if area < 518400*0.9:\n",
    "            #         draw.rectangle((rect[0],rect[1], rect[2], rect[3]), outline=(0,255,0), width=1)\n",
    "            im.save(img_path, quality=90)\n",
    "        "
   ]
  }
 ],
 "metadata": {
  "kernelspec": {
   "display_name": "base",
   "language": "python",
   "name": "python3"
  },
  "language_info": {
   "codemirror_mode": {
    "name": "ipython",
    "version": 3
   },
   "file_extension": ".py",
   "mimetype": "text/x-python",
   "name": "python",
   "nbconvert_exporter": "python",
   "pygments_lexer": "ipython3",
   "version": "3.10.9"
  },
  "orig_nbformat": 4
 },
 "nbformat": 4,
 "nbformat_minor": 2
}
